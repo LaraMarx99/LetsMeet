{
 "cells": [
  {
   "cell_type": "markdown",
   "id": "e6564cdb",
   "metadata": {},
   "source": [
    "Pandas importieren und Excel Datei in DataFrame einlesen"
   ]
  },
  {
   "cell_type": "code",
   "execution_count": 11,
   "id": "8bb24484",
   "metadata": {},
   "outputs": [
    {
     "name": "stdout",
     "output_type": "stream",
     "text": [
      "    Nachname, Vorname                            Straße Nr, PLZ Ort  \\\n",
      "0     Forster, Martin            Minslebener Str. 0, 46286, Dorsten   \n",
      "1  Elina, Tsanaklidou               Gartenweg 13, 69126, Heidelberg   \n",
      "2       Vildan, şahin  Heinrich-Heine-Straße 99c, 17489, Greifswald   \n",
      "3      Bäumker, Ellen                 Weidenring 39, 81539, München   \n",
      "4  Bahadır, Bekiroğlu   Eichendorffstraße 20, 79379, Müllheim Baden   \n",
      "\n",
      "         Telefon  \\\n",
      "0     02372 8020   \n",
      "1  06221 / 98689   \n",
      "2  03834 / 22951   \n",
      "3  0162 / 249788   \n",
      "4  (07631) 67955   \n",
      "\n",
      "  Hobby1 %Prio1%; Hobby2 %Prio2%; Hobby3 %Prio3%; Hobby4 %Prio4%; Hobby5 %Prio5%;  \\\n",
      "0  Fremdsprachenkenntnisse erweitern %78%; Im Was...                                \n",
      "1  Jemanden massieren %57%; Mir die Probleme von ...                                \n",
      "2  In der Stadt herumbummeln %94%; Mit Freunden z...                                \n",
      "3  An einer Gruppenreise teilnehmen %97%; Seine f...                                \n",
      "4  Ins Grüne fahren %23%; Holz hacken %67%; Fotos...                                \n",
      "\n",
      "                         E-Mail Geschlecht (m/w/nonbinary) Interessiert an  \\\n",
      "0        martin.forster@web.ork                          m               w   \n",
      "1    tsanaklidou.elina@1mal1.te                          w               m   \n",
      "2       şahin.vildan@gmaiil.ork                          w               m   \n",
      "3         ellen.bäumker@web.ork                          w               m   \n",
      "4  bekiroğlu.bahadır@autluuk.te                          m               w   \n",
      "\n",
      "  Geburtsdatum  \n",
      "0   07.03.1959  \n",
      "1   28.02.1958  \n",
      "2   27.07.1996  \n",
      "3   09.12.1992  \n",
      "4   13.06.1983  \n"
     ]
    }
   ],
   "source": [
    "import pandas as pd\n",
    "\n",
    "df = pd.read_excel(\"../Lets Meet DB Dump.xlsx\")\n",
    "print(df.head())"
   ]
  },
  {
   "cell_type": "markdown",
   "id": "6e994ad6",
   "metadata": {},
   "source": [
    "Saubere Namensvergaben der Spalten"
   ]
  },
  {
   "cell_type": "code",
   "execution_count": 12,
   "id": "48cea013",
   "metadata": {},
   "outputs": [],
   "source": [
    "rename_map = {\n",
    "    \"Nachname, Vorname\": \"name\",\n",
    "    \"Straße Nr, PLZ Ort\": \"adresse\",\n",
    "    \"Telefon\": \"telefon\",\n",
    "    \"Hobby1 %Prio1%; Hobby2 %Prio2%; Hobby3 %Prio3%; Hobby4 %Prio4%; Hobby5 %Prio5%;\": \"hobbys\",\n",
    "    \"E-Mail\": \"email\",\n",
    "    \"Geschlecht (m/w/nonbinary)\": \"geschlecht\",\n",
    "    \"Interessiert an\": \"interessiert_an\",\n",
    "    \"Geburtsdatum\": \"geburtsdatum\"\n",
    "}\n",
    "\n",
    "df = df.rename(columns=rename_map)\n"
   ]
  },
  {
   "cell_type": "markdown",
   "id": "ebf2282f",
   "metadata": {},
   "source": [
    "Bereinigung der Zellen"
   ]
  },
  {
   "cell_type": "code",
   "execution_count": null,
   "id": "28046b01",
   "metadata": {},
   "outputs": [],
   "source": [
    "# 1.1   Führende und folgende Leerzeichen werden mit strip() entfernt. Außerdem werden leere Felder mit NA gefüllt durch pd.NA.\n",
    "for c in df.columns:\n",
    "    if df[c].dtype == \"object\":\n",
    "        df[c] = df[c].str.strip()\n",
    "df = df.replace({\"\": pd.NA})\n",
    "\n",
    "# 1.2   E-Mail Adressen werden durch .str.lower() einheitlich klein geschrieben und mit str.strip() wird sicher gegangen, dass alle Leerzeichen am Anfang und Ende entfernt sind\n",
    "#       In der Spalte Telefon werden mit str.replace(r\"[^\\d+]\", \"\", regex=True) alle Zeichen, außer die Zahlen 0-9 (\\d) und das Plus entfernt. r vor der eckigen Klammer sorgt dafür, dass Python die Backslashes ignoriert. regex=True bedeutet, dass der Ausdruck als Regex-Ausdruck behandelt werden soll, was eine Sprache für Muster in Texten ist.\n",
    "df[\"email\"] = df[\"email\"].str.lower().str.strip()\n",
    "df[\"telefon\"] = df[\"telefon\"].str.replace(r\"[^\\d+]\", \"\", regex=True)\n",
    "\n",
    "# 1.3 Geschlecht normalisieren (m/w → Männlich/Weiblich)\n",
    "df[\"geschlecht_norm\"] = (\n",
    "    df[\"geschlecht\"].str.lower()\n",
    "    .replace({\"m\":\"männlich\",\"w\":\"weiblich\"})\n",
    "    .str.replace(r\"\\s+\", \" \", regex=True)\n",
    "    .str.strip()\n",
    "    .str.capitalize()\n",
    ")\n",
    "\n",
    "# 1.4 Namen/Adresse bei Bedarf trennen (nur falls nötig)\n",
    "# Name -> Vorname/Nachname (einfaches Pattern)\n",
    "if \"vorname\" not in df and \"nachname\" not in df and \"name\" in df:\n",
    "    parts = df[\"name\"].fillna(\"\").str.extract(r\"^(?P<vorname>\\S+)\\s+(?P<nachname>.*)$\")\n",
    "    df[\"vorname\"], df[\"nachname\"] = parts[\"vorname\"], parts[\"nachname\"]\n",
    "\n",
    "# Adresse -> Straße/Hausnummer/PLZ/Ort (nur falls alles in 'adresse' steckt)\n",
    "if \"adresse\" in df and (\"straße\" not in df or \"hausnummer\" not in df):\n",
    "    # sehr vereinfachtes Muster – ggf. an eure Daten anpassen\n",
    "    df[\"plz\"] = df[\"adresse\"].str.extract(r\"\\b(\\d{5})\\b\")\n",
    "    df[\"ort\"] = df[\"adresse\"].str.extract(r\"\\b\\d{5}\\s+(.+)$\")\n",
    "    parts = df[\"adresse\"].str.extract(r\"^(?P<straße>.+?)\\s+(?P<hausnummer>\\S+)\")\n",
    "    df[\"straße\"], df[\"hausnummer\"] = parts[\"straße\"], parts[\"hausnummer\"]\n",
    "\n",
    "# 1.5 Hobbys: Kommaliste in Array\n",
    "df[\"hobbies_list\"] = df[\"hobbys\"].fillna(\"\").str.split(r\"\\s*,\\s*\", regex=True)\n"
   ]
  },
  {
   "cell_type": "markdown",
   "id": "5cb6288c",
   "metadata": {},
   "source": []
  }
 ],
 "metadata": {
  "kernelspec": {
   "display_name": "Python 3",
   "language": "python",
   "name": "python3"
  },
  "language_info": {
   "codemirror_mode": {
    "name": "ipython",
    "version": 3
   },
   "file_extension": ".py",
   "mimetype": "text/x-python",
   "name": "python",
   "nbconvert_exporter": "python",
   "pygments_lexer": "ipython3",
   "version": "3.12.1"
  }
 },
 "nbformat": 4,
 "nbformat_minor": 5
}
