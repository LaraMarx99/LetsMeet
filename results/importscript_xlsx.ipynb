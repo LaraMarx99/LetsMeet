{
 "cells": [
  {
   "cell_type": "markdown",
   "id": "e6564cdb",
   "metadata": {},
   "source": [
    "Pandas importieren und Excel Datei in DataFrame einlesen"
   ]
  },
  {
   "cell_type": "code",
   "execution_count": 2,
   "id": "8bb24484",
   "metadata": {},
   "outputs": [
    {
     "name": "stdout",
     "output_type": "stream",
     "text": [
      "    Nachname, Vorname                            Straße Nr, PLZ Ort  \\\n",
      "0     Forster, Martin            Minslebener Str. 0, 46286, Dorsten   \n",
      "1  Elina, Tsanaklidou               Gartenweg 13, 69126, Heidelberg   \n",
      "2       Vildan, şahin  Heinrich-Heine-Straße 99c, 17489, Greifswald   \n",
      "3      Bäumker, Ellen                 Weidenring 39, 81539, München   \n",
      "4  Bahadır, Bekiroğlu   Eichendorffstraße 20, 79379, Müllheim Baden   \n",
      "\n",
      "         Telefon  \\\n",
      "0     02372 8020   \n",
      "1  06221 / 98689   \n",
      "2  03834 / 22951   \n",
      "3  0162 / 249788   \n",
      "4  (07631) 67955   \n",
      "\n",
      "  Hobby1 %Prio1%; Hobby2 %Prio2%; Hobby3 %Prio3%; Hobby4 %Prio4%; Hobby5 %Prio5%;  \\\n",
      "0  Fremdsprachenkenntnisse erweitern %78%; Im Was...                                \n",
      "1  Jemanden massieren %57%; Mir die Probleme von ...                                \n",
      "2  In der Stadt herumbummeln %94%; Mit Freunden z...                                \n",
      "3  An einer Gruppenreise teilnehmen %97%; Seine f...                                \n",
      "4  Ins Grüne fahren %23%; Holz hacken %67%; Fotos...                                \n",
      "\n",
      "                         E-Mail Geschlecht (m/w/nonbinary) Interessiert an  \\\n",
      "0        martin.forster@web.ork                          m               w   \n",
      "1    tsanaklidou.elina@1mal1.te                          w               m   \n",
      "2       şahin.vildan@gmaiil.ork                          w               m   \n",
      "3         ellen.bäumker@web.ork                          w               m   \n",
      "4  bekiroğlu.bahadır@autluuk.te                          m               w   \n",
      "\n",
      "  Geburtsdatum  \n",
      "0   07.03.1959  \n",
      "1   28.02.1958  \n",
      "2   27.07.1996  \n",
      "3   09.12.1992  \n",
      "4   13.06.1983  \n"
     ]
    }
   ],
   "source": [
    "import pandas as pd\n",
    "\n",
    "df = pd.read_excel(\"../Lets Meet DB Dump.xlsx\")\n",
    "print(df.head())"
   ]
  },
  {
   "cell_type": "markdown",
   "id": "6e994ad6",
   "metadata": {},
   "source": [
    "Saubere Namensvergaben der Spalten"
   ]
  },
  {
   "cell_type": "code",
   "execution_count": 3,
   "id": "48cea013",
   "metadata": {},
   "outputs": [],
   "source": [
    "rename_map = {\n",
    "    \"Nachname, Vorname\": \"name\",\n",
    "    \"Straße Nr, PLZ Ort\": \"adresse\",\n",
    "    \"Telefon\": \"telefon\",\n",
    "    \"Hobby1 %Prio1%; Hobby2 %Prio2%; Hobby3 %Prio3%; Hobby4 %Prio4%; Hobby5 %Prio5%;\": \"hobbys\",\n",
    "    \"E-Mail\": \"email\",\n",
    "    \"Geschlecht (m/w/nonbinary)\": \"geschlecht\",\n",
    "    \"Interessiert an\": \"interessiert_an\",\n",
    "    \"Geburtsdatum\": \"geburtsdatum\"\n",
    "}\n",
    "\n",
    "df = df.rename(columns=rename_map)\n"
   ]
  },
  {
   "cell_type": "markdown",
   "id": "ebf2282f",
   "metadata": {},
   "source": [
    "Bereinigung der Zellen"
   ]
  },
  {
   "cell_type": "code",
   "execution_count": 4,
   "id": "28046b01",
   "metadata": {},
   "outputs": [],
   "source": [
    "# 1.1   Führende und folgende Leerzeichen werden mit strip() entfernt. Außerdem werden leere Felder mit NA gefüllt durch pd.NA.\n",
    "for c in df.columns:\n",
    "    if df[c].dtype == \"object\":\n",
    "        df[c] = df[c].str.strip()\n",
    "df = df.replace({\"\": pd.NA})\n",
    "\n",
    "# 1.2   E-Mail Adressen werden durch .str.lower() einheitlich klein geschrieben und mit str.strip() wird sicher gegangen, dass alle Leerzeichen am Anfang und Ende entfernt sind\n",
    "#       In der Spalte Telefon werden mit str.replace(r\"[^\\d+]\", \"\", regex=True) alle Zeichen, außer die Zahlen 0-9 (\\d) und das Plus entfernt. r vor der eckigen Klammer sorgt dafür, dass Python die Backslashes ignoriert. regex=True bedeutet, dass der Ausdruck als Regex-Ausdruck behandelt werden soll, was eine Sprache für Muster in Texten ist.\n",
    "df[\"email\"] = df[\"email\"].str.lower().str.strip()\n",
    "df[\"telefon\"] = df[\"telefon\"].str.replace(r\"[^\\d+]\", \"\", regex=True)\n",
    "\n",
    "# 1.3 Geschlecht normalisieren (m/w/nb → Männlich/Weiblich/Nichtbinär)\n",
    "df[\"geschlecht_norm\"] = (\n",
    "    df[\"geschlecht\"].str.lower()\n",
    "    .replace({\"m\":\"männlich\",\"w\":\"weiblich\", \"nb\":\"nichtbinär\"})\n",
    "    .str.replace(r\"\\s+\", \" \", regex=True)\n",
    "    .str.strip()\n",
    "    .str.capitalize()\n",
    ")\n",
    "\n",
    "# 1.4 Namen/Adresse bei Bedarf trennen (nur falls nötig)\n",
    "# Name -> Vorname/Nachname (einfaches Pattern)\n",
    "if \"vorname\" not in df and \"nachname\" not in df and \"name\" in df:\n",
    "    parts = df[\"name\"].fillna(\"\").str.extract(r\"^(?P<nachname>[^,]+),\\s*(?P<vorname>.+)$\")\n",
    "    df[\"nachname\"], df[\"vorname\"] = parts[\"nachname\"], parts[\"vorname\"]\n",
    "\n",
    "\n",
    "# Adresse -> Straße/Hausnummer/PLZ/Ort (Format: \"Straße Hausnummer, PLZ, Ort\")\n",
    "if \"adresse\" in df:\n",
    "    addr = (\n",
    "        df[\"adresse\"]\n",
    "        .fillna(\"\")\n",
    "        .str.replace(r\"\\s+\", \" \", regex=True)  # Mehrfachspaces glätten\n",
    "        .str.strip()\n",
    "    )\n",
    "\n",
    "    # Ein Regex für: Straße(namen) + Hausnummer, Komma, PLZ, Komma, Ort\n",
    "    m = addr.str.extract(\n",
    "        r\"^(?P<straße>.+?)\\s+(?P<hausnummer>\\S+),\\s*(?P<plz>\\d{5}),\\s*(?P<ort>.+?)\\s*$\"\n",
    "    )\n",
    "\n",
    "    df[\"straße\"]     = m[\"straße\"]\n",
    "    df[\"hausnummer\"] = m[\"hausnummer\"]\n",
    "    df[\"plz\"]        = m[\"plz\"]\n",
    "    df[\"ort\"]        = m[\"ort\"]\n",
    "\n",
    "# 1.5 Hobbys: Kommaliste in Array\n",
    "df[\"hobbies_list\"] = df[\"hobbys\"].fillna(\"\").str.split(r\"\\s*,\\s*\", regex=True)\n",
    "\n"
   ]
  },
  {
   "cell_type": "markdown",
   "id": "59e4cedc",
   "metadata": {},
   "source": [
    "Hobbys ohne Mehrfachnennung in eigenen Dataframe überführen"
   ]
  },
  {
   "cell_type": "code",
   "execution_count": 12,
   "id": "5f19a43c",
   "metadata": {},
   "outputs": [
    {
     "data": {
      "text/html": [
       "<div>\n",
       "<style scoped>\n",
       "    .dataframe tbody tr th:only-of-type {\n",
       "        vertical-align: middle;\n",
       "    }\n",
       "\n",
       "    .dataframe tbody tr th {\n",
       "        vertical-align: top;\n",
       "    }\n",
       "\n",
       "    .dataframe thead th {\n",
       "        text-align: right;\n",
       "    }\n",
       "</style>\n",
       "<table border=\"1\" class=\"dataframe\">\n",
       "  <thead>\n",
       "    <tr style=\"text-align: right;\">\n",
       "      <th></th>\n",
       "      <th>Hobby</th>\n",
       "      <th>ID</th>\n",
       "    </tr>\n",
       "  </thead>\n",
       "  <tbody>\n",
       "    <tr>\n",
       "      <th>0</th>\n",
       "      <td>Fremdsprachenkenntnisse Erweitern</td>\n",
       "      <td>1</td>\n",
       "    </tr>\n",
       "    <tr>\n",
       "      <th>1</th>\n",
       "      <td>Im Wasser Waten</td>\n",
       "      <td>2</td>\n",
       "    </tr>\n",
       "    <tr>\n",
       "      <th>2</th>\n",
       "      <td>Schwierige Probleme Klären</td>\n",
       "      <td>3</td>\n",
       "    </tr>\n",
       "    <tr>\n",
       "      <th>3</th>\n",
       "      <td>Morgens Früh Aufstehen</td>\n",
       "      <td>4</td>\n",
       "    </tr>\n",
       "    <tr>\n",
       "      <th>4</th>\n",
       "      <td>Jemanden Massieren</td>\n",
       "      <td>5</td>\n",
       "    </tr>\n",
       "    <tr>\n",
       "      <th>...</th>\n",
       "      <td>...</td>\n",
       "      <td>...</td>\n",
       "    </tr>\n",
       "    <tr>\n",
       "      <th>215</th>\n",
       "      <td>Laufen, Joggen, Nordic Walking</td>\n",
       "      <td>216</td>\n",
       "    </tr>\n",
       "    <tr>\n",
       "      <th>216</th>\n",
       "      <td>Bowling Spielen</td>\n",
       "      <td>217</td>\n",
       "    </tr>\n",
       "    <tr>\n",
       "      <th>217</th>\n",
       "      <td>Radfahren</td>\n",
       "      <td>218</td>\n",
       "    </tr>\n",
       "    <tr>\n",
       "      <th>218</th>\n",
       "      <td>Freiwillige Arbeit Tun, An Gemeinnützigen Proj...</td>\n",
       "      <td>219</td>\n",
       "    </tr>\n",
       "    <tr>\n",
       "      <th>219</th>\n",
       "      <td>In Einer Musikgruppe Mitspielen</td>\n",
       "      <td>220</td>\n",
       "    </tr>\n",
       "  </tbody>\n",
       "</table>\n",
       "<p>220 rows × 2 columns</p>\n",
       "</div>"
      ],
      "text/plain": [
       "                                                 Hobby   ID\n",
       "0                    Fremdsprachenkenntnisse Erweitern    1\n",
       "1                                      Im Wasser Waten    2\n",
       "2                           Schwierige Probleme Klären    3\n",
       "3                               Morgens Früh Aufstehen    4\n",
       "4                                   Jemanden Massieren    5\n",
       "..                                                 ...  ...\n",
       "215                     Laufen, Joggen, Nordic Walking  216\n",
       "216                                    Bowling Spielen  217\n",
       "217                                          Radfahren  218\n",
       "218  Freiwillige Arbeit Tun, An Gemeinnützigen Proj...  219\n",
       "219                    In Einer Musikgruppe Mitspielen  220\n",
       "\n",
       "[220 rows x 2 columns]"
      ]
     },
     "execution_count": 12,
     "metadata": {},
     "output_type": "execute_result"
    }
   ],
   "source": [
    "\n",
    "# 1) Spalte \"hobbys\" in einzelne Einträge aufsplitten\n",
    "df_hobby_entries = (\n",
    "    df[[\"email\", \"hobbys\"]]\n",
    "    .assign(entry = df[\"hobbys\"].fillna(\"\").str.split(r\"\\s*;\\s*\"))  # an Semikolons trennen\n",
    "    .explode(\"entry\")                                              # jede Hobby/Prio-Kombi eigene Zeile\n",
    ")\n",
    "\n",
    "# 2) Leere rausfiltern\n",
    "df_hobby_entries = df_hobby_entries[df_hobby_entries[\"entry\"].notna()]\n",
    "df_hobby_entries[\"entry\"] = df_hobby_entries[\"entry\"].str.strip()\n",
    "\n",
    "# 3) Hobbyname und Prio per Regex extrahieren\n",
    "# Muster: \"Text %Zahl%\"\n",
    "pattern = r\"^(?P<hobby>.+?)\\s*%\\s*(?P<praef>-?\\d{1,3})\\s*%$\"\n",
    "parts = df_hobby_entries[\"entry\"].str.extract(pattern)\n",
    "\n",
    "df_hobby_entries[\"hobby\"] = parts[\"hobby\"].str.strip().str.title()\n",
    "df_hobby_entries[\"praeferenz\"] = pd.to_numeric(parts[\"praef\"], errors=\"coerce\").clip(-100, 100)\n",
    "\n",
    "# 4) DataFrame nur mit allen einzigartigen Hobbys\n",
    "df_hobbies = df_hobby_entries[\"hobby\"].dropna().drop_duplicates().reset_index(drop=True)\n",
    "df_hobbies = df_hobbies.to_frame(name=\"Hobby\")\n",
    "df_hobbies[\"ID\"] = df_hobbies.index + 1\n",
    "\n",
    "\n",
    "df_hobbies\n"
   ]
  },
  {
   "cell_type": "code",
   "execution_count": null,
   "id": "920f6611",
   "metadata": {},
   "outputs": [
    {
     "name": "stdout",
     "output_type": "stream",
     "text": [
      "hobby\n",
      "Etwas Entwerfen Oder Zeichnen                                 80\n",
      "Romane, Erzählungen, Theaterstücke Oder Gedichte Schreiben    80\n",
      "Mit Bekannten Telefonieren                                    80\n",
      "Etwas Lernen Und Mich Fortbilden                              78\n",
      "Auf Mich Zukommende Situationen In Gedanken Bewältigen        76\n",
      "                                                              ..\n",
      "Bowling Spielen                                                4\n",
      "Studieren                                                      2\n",
      "Tischtennis Spielen                                            2\n",
      "In Einer Musikgruppe Mitspielen                                2\n",
      "Laufen, Joggen, Nordic Walking                                 1\n",
      "Name: count, Length: 220, dtype: int64\n"
     ]
    }
   ],
   "source": [
    "hobby_counts = df_hobby_entries[\"hobby\"].value_counts()\n",
    "\n",
    "print(hobby_counts)"
   ]
  },
  {
   "cell_type": "code",
   "execution_count": 14,
   "id": "347a54fa",
   "metadata": {},
   "outputs": [
    {
     "name": "stdout",
     "output_type": "stream",
     "text": [
      "                                                 hobby  anzahl_nutzer\n",
      "57                       Etwas Entwerfen Oder Zeichnen             80\n",
      "135                         Mit Bekannten Telefonieren             80\n",
      "165  Romane, Erzählungen, Theaterstücke Oder Gedich...             80\n",
      "60                    Etwas Lernen Und Mich Fortbilden             78\n",
      "12   Auf Mich Zukommende Situationen In Gedanken Be...             76\n",
      "..                                                 ...            ...\n",
      "167                        Schauspielerisch Tätig Sein              4\n",
      "187                                          Studieren              2\n",
      "98                     In Einer Musikgruppe Mitspielen              2\n",
      "192                                Tischtennis Spielen              2\n",
      "117                     Laufen, Joggen, Nordic Walking              1\n",
      "\n",
      "[220 rows x 2 columns]\n"
     ]
    }
   ],
   "source": [
    "hobby_counts_df = (\n",
    "    df_hobby_entries.groupby(\"hobby\")[\"email\"]\n",
    "    .count()\n",
    "    .reset_index()\n",
    "    .rename(columns={\"email\": \"anzahl_nutzer\"})\n",
    "    .sort_values(\"anzahl_nutzer\", ascending=False)\n",
    ")\n",
    "\n",
    "print(hobby_counts_df)\n"
   ]
  }
 ],
 "metadata": {
  "kernelspec": {
   "display_name": "Python 3",
   "language": "python",
   "name": "python3"
  },
  "language_info": {
   "codemirror_mode": {
    "name": "ipython",
    "version": 3
   },
   "file_extension": ".py",
   "mimetype": "text/x-python",
   "name": "python",
   "nbconvert_exporter": "python",
   "pygments_lexer": "ipython3",
   "version": "3.12.1"
  }
 },
 "nbformat": 4,
 "nbformat_minor": 5
}
